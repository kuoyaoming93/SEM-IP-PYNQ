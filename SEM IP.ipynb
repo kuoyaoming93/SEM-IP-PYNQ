{
 "cells": [
  {
   "cell_type": "markdown",
   "metadata": {},
   "source": [
    "# SEM IP Test example"
   ]
  },
  {
   "cell_type": "markdown",
   "metadata": {},
   "source": [
    "## Block Diagram"
   ]
  },
  {
   "cell_type": "markdown",
   "metadata": {},
   "source": [
    "![Figure 1. Block Diagram](img/diagram.png)"
   ]
  },
  {
   "cell_type": "markdown",
   "metadata": {},
   "source": [
    "Here we can see the diagram for this bitstream. It consists in: AXI GPIO, AXI Uartlite and SEM IP.\n",
    "\n",
    "### SEM_IP\n",
    "\n",
    "1. The sem_ip module can communicate with the ZYNQ using the AXI Uartlite block.\n",
    "2. The status bits are showed in PYNQ-Z2 board leds.\n",
    "   * led[0] = SEM Injection status\n",
    "   * led[1] = SEM Initialization status\n",
    "   * led[2] = SEM ICAP Enable\n",
    "   \n",
    "### AXI_GPIO\n",
    "\n",
    "Controls the ICAP_GRANT signal from SEM_IP. If I put a logic 1. SEM_IP will start.\n",
    "\n",
    "### AXI_UARTLITE\n",
    "\n",
    "Controls the communication between SEM_IP and PS."
   ]
  },
  {
   "cell_type": "markdown",
   "metadata": {},
   "source": [
    "## ICAP and PCAP"
   ]
  },
  {
   "cell_type": "markdown",
   "metadata": {},
   "source": [
    "During boot of the Zynq-7000 Processing System (PS), access to the configuration logic in the device is given to the PS through the processor configuration access port (PCAP). This provides a path for the PS bootloader to download a bitstream to the Zynq-7000 Programmable Logic (PL). When the PS bootloader completes, the PS and PCAP remain in control of the configuration logic to support partial reconfiguration of the PL by the PS. \n",
    "\n",
    "However, while the PS and PCAP are in control of the configuration logic, the PL and ICAP are locked out of the configuration logic. In order for the controller to function, configuration logic access must be transferred to the ICAP. This is accomplished by clearing PCAP_PR (bit 27) in the PS device configuration control register (DEVCFG CTRL, address 0xF8007000)."
   ]
  },
  {
   "cell_type": "code",
   "execution_count": 1,
   "metadata": {},
   "outputs": [
    {
     "data": {
      "application/javascript": [
       "\n",
       "require(['notebook/js/codecell'], function(codecell) {\n",
       "  codecell.CodeCell.options_default.highlight_modes[\n",
       "      'magic_text/x-csrc'] = {'reg':[/^%%microblaze/]};\n",
       "  Jupyter.notebook.events.one('kernel_ready.Kernel', function(){\n",
       "      Jupyter.notebook.get_cells().map(function(cell){\n",
       "          if (cell.cell_type == 'code'){ cell.auto_highlight(); } }) ;\n",
       "  });\n",
       "});\n"
      ]
     },
     "metadata": {},
     "output_type": "display_data"
    }
   ],
   "source": [
    "# Import the PS library\n",
    "from pynq import ps\n",
    "\n",
    "# Create a instance of DEV CFG \n",
    "XDCFG_BASE_ADDRESS = 0xF8007000\n",
    "dev_cfg_ctrl = ps.Register(XDCFG_BASE_ADDRESS)"
   ]
  },
  {
   "cell_type": "markdown",
   "metadata": {},
   "source": [
    "![Figure 2. ICAP Controller](img/pcap.png)"
   ]
  },
  {
   "cell_type": "markdown",
   "metadata": {},
   "source": [
    "## Import libraries and load the overlay"
   ]
  },
  {
   "cell_type": "code",
   "execution_count": 2,
   "metadata": {},
   "outputs": [],
   "source": [
    "# Import Libraries\n",
    "from pynq import Overlay\n",
    "from pynq.lib import AxiGPIO\n",
    "import sys\n",
    "sys.path.insert(1, './src')\n",
    "from uartlite import *\n",
    "\n",
    "# Download the overlay\n",
    "ol = Overlay(\"./bits/sem_ip.bit\")\n",
    "ol.download()"
   ]
  },
  {
   "cell_type": "markdown",
   "metadata": {},
   "source": [
    "## Initialize AXI GPIO "
   ]
  },
  {
   "cell_type": "code",
   "execution_count": 3,
   "metadata": {},
   "outputs": [],
   "source": [
    "# SEM Enable GPIO Offset\n",
    "SEM_EN_OFFSET = 0\n",
    "# SEM Enable GPIO handle, the sem IP enable is the offset number 0\n",
    "sem_enable = ol.sem_en_gpio"
   ]
  },
  {
   "cell_type": "markdown",
   "metadata": {},
   "source": [
    "## Initialize AXI Uartlite"
   ]
  },
  {
   "cell_type": "code",
   "execution_count": 4,
   "metadata": {},
   "outputs": [],
   "source": [
    "# Address of the ip core\n",
    "ADDRESS = 0x42c00000  \n",
    "uart = UartAXI(ADDRESS)\n",
    "\n",
    "# Setup AXI UART register\n",
    "uart.setupCtrlReg()"
   ]
  },
  {
   "cell_type": "markdown",
   "metadata": {},
   "source": [
    "## Clean the PCAP_PR bit from DEVCFG CTRL register"
   ]
  },
  {
   "cell_type": "markdown",
   "metadata": {},
   "source": [
    "I have to clean this bit to use ICAP instead of PCAP"
   ]
  },
  {
   "cell_type": "code",
   "execution_count": 5,
   "metadata": {},
   "outputs": [
    {
     "name": "stdout",
     "output_type": "stream",
     "text": [
      "Info: ICAP Enabled\n"
     ]
    }
   ],
   "source": [
    "# Clear PCAP_PR bit\n",
    "dev_cfg_ctrl[27] = 0\n",
    "\n",
    "if dev_cfg_ctrl[27] == 0:\n",
    "    print(\"Info: ICAP Enabled\")\n",
    "else:\n",
    "    print(\"Warning: ICAP not Enabled\")"
   ]
  },
  {
   "cell_type": "markdown",
   "metadata": {},
   "source": [
    "## Initialize SEM IP"
   ]
  },
  {
   "cell_type": "code",
   "execution_count": 6,
   "metadata": {},
   "outputs": [
    {
     "name": "stdout",
     "output_type": "stream",
     "text": [
      "Init Report:\n",
      "------------\n",
      "\n",
      "X7_SEM_V4_1\r\n",
      "SC 01\r\n",
      "FS 0E\r\n",
      "ICAP OK\r\n",
      "RDBK OK\r\n",
      "INIT OK\r\n",
      "SC 02\r\n",
      "O> \n"
     ]
    }
   ],
   "source": [
    "# Enable ICAP Grant signal\n",
    "sem_enable.write(SEM_EN_OFFSET,1)\n",
    "\n",
    "# Print Init Report\n",
    "print(\"Init Report:\")\n",
    "print(\"------------\")\n",
    "print(\"\")\n",
    "for x in range(7):\n",
    "    print(uart.readLine())\n",
    "print(uart.read(3))"
   ]
  },
  {
   "cell_type": "code",
   "execution_count": null,
   "metadata": {},
   "outputs": [],
   "source": []
  }
 ],
 "metadata": {
  "kernelspec": {
   "display_name": "Python 3",
   "language": "python",
   "name": "python3"
  },
  "language_info": {
   "codemirror_mode": {
    "name": "ipython",
    "version": 3
   },
   "file_extension": ".py",
   "mimetype": "text/x-python",
   "name": "python",
   "nbconvert_exporter": "python",
   "pygments_lexer": "ipython3",
   "version": "3.6.5"
  }
 },
 "nbformat": 4,
 "nbformat_minor": 2
}
